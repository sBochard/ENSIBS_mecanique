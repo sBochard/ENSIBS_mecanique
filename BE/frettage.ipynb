{
 "cells": [
  {
   "cell_type": "markdown",
   "metadata": {},
   "source": [
    "# Table of Contents\n",
    "* [1. Frettage - NF E 22-621](#1.-Frettage---NF-E-22-621)\n",
    "\t* [1.1 Modèle de calcul : le cylindre à paroi épaisse](#1.1-Modèle-de-calcul-:-le-cylindre-à-paroi-épaisse)\n",
    "\t\t* [1.1.1 Présentation du modèle](#1.1.1-Présentation-du-modèle)\n",
    "\t\t* [1.1.2 Déplacement radial](#1.1.2-Déplacement-radial)\n",
    "\t\t* [1.1.3 Contraintes](#1.1.3-Contraintes)\n",
    "\t* [1.2 Application au frettage sur portée cylindrique](#1.2-Application-au-frettage-sur-portée-cylindrique)\n",
    "\t\t* [1.2.1 Présentation du modèle](#1.2.1-Présentation-du-modèle)\n",
    "\t\t* [1.2.2 Exemple : poulie frettée sur un arbre](#1.2.2-Exemple-:-poulie-frettée-sur-un-arbre)\n",
    "\t\t* [1.2.3 Pression de frettage minimum](#1.2.3-Pression-de-frettage-minimum)\n",
    "\t\t* [1.2.4 Serrage théorique minimum $\\Delta$](#1.2.4-Serrage-théorique-minimum-$\\Delta$)\n",
    "\t* [1.3 Dispositions pratiques](#1.3-Dispositions-pratiques)\n",
    "\t\t* [1.3.1 Tolérances et état de surface](#1.3.1-Tolérances-et-état-de-surface)\n"
   ]
  },
  {
   "cell_type": "markdown",
   "metadata": {},
   "source": [
    "# 1. Frettage - NF E 22-621"
   ]
  },
  {
   "cell_type": "markdown",
   "metadata": {},
   "source": [
    "**Résumé extrait de :** *SYSTÈMES MÉCANIQUES théorie et dimensionnement*, DUNOD"
   ]
  },
  {
   "cell_type": "markdown",
   "metadata": {},
   "source": [
    "## 1.1 Modèle de calcul : le cylindre à paroi épaisse"
   ]
  },
  {
   "cell_type": "markdown",
   "metadata": {},
   "source": [
    "### 1.1.1 Présentation du modèle"
   ]
  },
  {
   "attachments": {},
   "cell_type": "markdown",
   "metadata": {},
   "source": [
    "![frettage.png](frettage.png)\n",
    "<center>Fig 1. Géométrie du cylindre à paroi épaisse</center>\n",
    "Les notations suivantes seront utilisées :\n",
    "\n",
    "- $a$ : rayon interne,  \n",
    "- $b$ : rayon externe,  \n",
    "- $p_i$ : pression interne,  \n",
    "- $p_0$ : pression externe,  \n",
    "- $E$ : module d'Young du matériau,  \n",
    "- $\\nu$ : coefficient de poisson du matériau."
   ]
  },
  {
   "cell_type": "markdown",
   "metadata": {},
   "source": [
    "### 1.1.2 Déplacement radial"
   ]
  },
  {
   "cell_type": "markdown",
   "metadata": {},
   "source": [
    "Pour un point $M$ distant de $\\boldsymbol r$ de l'axe $(O,\\vec{z})$, le déplacement radial $u$ est donné par :\n",
    "$$\n",
    "u(\\boldsymbol r)=\\cfrac{1-\\nu}{E}\\,\\cfrac{a^2p_i-b^2p_0}{b^2-a^2}\\,\\boldsymbol r+\\cfrac{1+\\nu}{E}\\,\\,\\cfrac{a^2b^2(p_i-p_0)}{(b^2-a^2)}\\,\\cfrac{1}{\\boldsymbol r}\n",
    "$$"
   ]
  },
  {
   "cell_type": "markdown",
   "metadata": {},
   "source": [
    "### 1.1.3 Contraintes"
   ]
  },
  {
   "cell_type": "markdown",
   "metadata": {},
   "source": [
    "$$\n",
    "\\sigma_r(\\boldsymbol r) = \\cfrac{a^2p_i-b^2p_0}{b^2-a^2}-\\cfrac{a^2b^2(p_i-p_0)}{(b^2-a^2)}\\,\\cfrac{1}{\\boldsymbol r^2}\\\\\n",
    "\\sigma_t(\\boldsymbol r) = \\cfrac{a^2p_i-b^2p_0}{b^2-a^2}+\\cfrac{a^2b^2(p_i-p_0)}{(b^2-a^2)}\\,\\cfrac{1}{\\boldsymbol r^2}\n",
    "$$\n"
   ]
  },
  {
   "cell_type": "markdown",
   "metadata": {},
   "source": [
    "## 1.2 Application au frettage sur portée cylindrique"
   ]
  },
  {
   "cell_type": "markdown",
   "metadata": {},
   "source": [
    "### 1.2.1 Présentation du modèle"
   ]
  },
  {
   "attachments": {},
   "cell_type": "markdown",
   "metadata": {},
   "source": [
    "![frettage_assemblage.png](frettage_assemblage.png)\n",
    "<center>Fig 2. Géométrie du frettage avant assemblage</center>\n",
    "Les notations suivantes seront utilisées avec les caractéristiques matériaux de l'arbre,\n",
    "indice $A$, et celles du moyeu, indice $M$ :\n",
    "\n",
    "- $a_A = \\frac{1-\\nu_A}{E_A}$,\n",
    "- $b_A = \\frac{1+\\nu_A}{E_A}$,\n",
    "- $a_M = \\frac{1-\\nu_M}{E_M}$,\n",
    "- $b_M = \\frac{1+\\nu_M}{E_M}$,\n",
    "- $f$ : coefficient de frottement arbre/moyeu."
   ]
  },
  {
   "cell_type": "markdown",
   "metadata": {},
   "source": [
    "### 1.2.2 Exemple : poulie frettée sur un arbre"
   ]
  },
  {
   "cell_type": "markdown",
   "metadata": {},
   "source": [
    "Une poulie en alliage d'aluminium (2017 A) est frettée sur un arbre creux en acier (35 CD 4).\n",
    "\n",
    "Données :\n",
    "\\begin{equation}\n",
    "\\begin{array}{l@{\\hspace{2cm}}l@{\\hspace{2cm}}l}\n",
    "C = 80\\,Nm\t\t& E_A  = 206\\,000\\,MPa\t\t& E_M = 75\\,000\\,MPa\\\\\n",
    "f = 0.1\t\t\t& \\nu_A = 0.3 \t\t\t\t& \\nu_M = 0.35\\\\\n",
    "k = 3\t\t\t& {R_{p_{0.2}}}_A = 610\\,MPa\t& {R_e}_M = 250\\,MPa\\\\\n",
    "l = 60\\,mm\t\t& d = 60\\,mm\t\t\t\t& \\lambda_M = 24.10^{-6}\\,\\frac{mm}{mm.^oC}\\\\\n",
    "d_i = 40\\,mm\t& D = 100\\,mm\n",
    "\\end{array}\n",
    "\\end{equation}\n",
    "*Déterminer les paramètres du frettage en utilisant une cotation d'alésage normal.*"
   ]
  },
  {
   "cell_type": "code",
   "execution_count": 1,
   "metadata": {
    "scrolled": true
   },
   "outputs": [
    {
     "name": "stdout",
     "output_type": "stream",
     "text": [
      "constantes des matériaux en 1/Pa\n",
      "aM =    8.6667e-12\n",
      "bM =    1.8000e-11\n",
      "aA =    3.3981e-12\n",
      "bA =    6.3107e-12\n"
     ]
    }
   ],
   "source": [
    "% script Octave de calcul d'un assemblage fretté\n",
    "% d'une poulie en aluminium (2017 A) sur en arbre creux\n",
    "% en acier  (35 CD 4).\n",
    "%\n",
    "% Données\n",
    "C=80;        % couple à transmettre en N\n",
    "f=0.1;       % coefficient de frottement entre le moyeu et l'arbre\n",
    "k=3;         % coefficient de sécurité\n",
    "l=60e-3;     % longeur du frettage en m\n",
    "d=60e-3;     % diamètre du frettage en m\n",
    "EA=206000E6; % module d'Young de l'arbre en Pa\n",
    "muA=0.30;    % coefficient de poisson de l'arbre\n",
    "RPA=610E6;   % limite élastique de l'arbre en Pa\n",
    "di=40e-3;    % diamètre intérieur de l'arbre en m\n",
    "EM=75000E6;  % module d'Young du moyeu en Pa\n",
    "muM=0.35;    % coefficient de poisson du moyeu\n",
    "RPM=250E6;   % limite élastique du moyeu en Pa\n",
    "D=100e-3;    % diamètre extérieur du moyeu en m\n",
    "% calcul des constantes caractéristiques des matériaux\n",
    "disp(\"constantes des matériaux en 1/Pa\")\n",
    "aM=(1-muM)/EM % en 1/Pa\n",
    "bM=(1+muM)/EM % en 1/Pa\n",
    "aA=(1-muA)/EA % en 1/Pa\n",
    "bA=(1+muA)/EA % en 1/Pa"
   ]
  },
  {
   "cell_type": "markdown",
   "metadata": {},
   "source": [
    "### 1.2.3 Pression de frettage minimum"
   ]
  },
  {
   "cell_type": "markdown",
   "metadata": {},
   "source": [
    "La pression minimale qui est installée par le frettage entre le moyeu et l'arbre (au niveau du diamètre $d$) doit permettre de transmettre, avec le coefficient de sécurité $k$, les efforts par adhérence entre les 2 pièces.\n",
    "\n",
    "Pour un couple $C=\\pi fpl\\cfrac{d^2}{2}$ transmis, la pression minimale est $p_{min} = \\cfrac{2kC_{max}}{\\pi fld^2}$.\n",
    "\n",
    "Pour un effort axial $A= \\pi fpld$ transmis, la pression minimale est $p_{min} = \\cfrac{kA_{max}}{\\pi fld}$."
   ]
  },
  {
   "cell_type": "code",
   "execution_count": 2,
   "metadata": {},
   "outputs": [
    {
     "name": "stdout",
     "output_type": "stream",
     "text": [
      "Pression minimale en Pa\n",
      "Pmin =    7.0736e+06\n"
     ]
    }
   ],
   "source": [
    "% calcul de la pression minimale\n",
    "% pour la transmission du couple entre la poulie et l'arbre\n",
    "disp(\"Pression minimale en Pa\")\n",
    "Pmin=2*k*C/(pi*f*l*d^2)"
   ]
  },
  {
   "cell_type": "markdown",
   "metadata": {},
   "source": [
    "### 1.2.4 Serrage théorique minimum $\\Delta$"
   ]
  },
  {
   "cell_type": "markdown",
   "metadata": {},
   "source": [
    "Pour l'application au frettage de la poulie sur l'arbre, les pressions intérieure $p_A$ et extérieure $p_M$ sont nulles :\n",
    "\n",
    "Le déplacement $u_A$ d'un point de l'arbre tel que $r=\\frac{d_A}{2}\\simeq\\frac{d}{2}$ vaut :\n",
    "$$\n",
    "u_A = -a_A\\cfrac{p_{min}d^3}{2\\left(d^2-d_i^2\\right)}-b_A\\cfrac{p_{min}d_i^2d}{2\\left(d^2-d_i^2\\right)}\n",
    "$$\n",
    "Le déplacement $u_M$ d'un point du moyeu tel que $r=\\frac{d_M}{2}\\simeq\\frac{d}{2}$ vaut :\n",
    "$$\n",
    "u_M = a_M\\cfrac{p_{min}d^3}{2\\left(D^2-d^2\\right)}+b_M\\cfrac{p_{min}D^2d}{2\\left(D^2-d^2\\right)}\n",
    "$$\n",
    "Le serrage minimum $\\Delta$ à installer pour avoir la pression $p_{min}$ à l'interface des 2 pièces vaut alors :\n",
    "$$\n",
    "\\Delta = u_M-u_A = p_{min}d\\cfrac{d^4(a_M-a_A)+d^2D^2(a_A+b_M)+D^2d_i^2(b_A-b_M)-d_i^2d^2(b_A+a_M)}{(D^2-d^2)(d^2-d_i^2)}\n",
    "$$"
   ]
  },
  {
   "cell_type": "code",
   "execution_count": 3,
   "metadata": {},
   "outputs": [
    {
     "name": "stdout",
     "output_type": "stream",
     "text": [
      "Serrage minium en m\n",
      "Delta =    1.8744e-05\n"
     ]
    }
   ],
   "source": [
    "% calcul du serrage minimum\n",
    "disp(\"Serrage minium en m\")\n",
    "Delta=Pmin*d*(d^4*(aM-aA)+d^2*D^2*(aA+bM)+D^2*di^2*(bA-bM)-di^2*d^2*(bA+aM))/(D^2-d^2)/(d^2-di^2)"
   ]
  },
  {
   "cell_type": "markdown",
   "metadata": {},
   "source": [
    "## 1.3 Dispositions pratiques"
   ]
  },
  {
   "cell_type": "markdown",
   "metadata": {},
   "source": [
    "### 1.3.1 Tolérances et état de surface"
   ]
  },
  {
   "cell_type": "markdown",
   "metadata": {},
   "source": [
    "En fonction du diamètre de frettage, les qualités couramment utilisées sont :\n",
    "\n",
    "- $d\\leq 100$, arbre et alésage du moyeu qualité 6,\n",
    "- $100<d\\leq180$, arbre qualité 6 et alésage du moyeu qualité 7,\n",
    "- $180<d$, arbre et alésage du moyeu qualité 7.\n",
    "\n",
    "Les erreurs de forme, d'orientation et de position sont côtées globalement par une tolérance de cylindricité égale à :\n",
    "\n",
    "- $\\frac{IT_A}{4}$ pour l'arbre,\n",
    "- $\\frac{IT_M}{4}$ pour le moyeu.\n",
    "\n",
    "En fonction du diamètre de frettage, les rugositées préconisées sont :\n",
    "\n",
    "- $d\\leq 180$, $R_a=0.8\\,\\mu m$,\n",
    "- $180<d$, $R_a=1.6\\,\\mu m$.\n",
    "\n",
    "**Remarque :** Une perte de serrage par lissage (écrasement des aspérités) amène à majorer les serrages théoriques de 3 fois la somme des $R_a$ des deux pièces à fretter soit :\n",
    "\n",
    "\n",
    "- $lissage =5\\,\\mu m$ pour $d\\leq 180$,\n",
    "- $lissage =10\\,\\mu m$ pour $180<d$.\n",
    "\n",
    "La cotation dimentionnelle des deux pièces peut être réalisée avec :\n",
    "\n",
    "- un **alésage** normal :\n",
    "    - Moyeu :\n",
    "        - ${d_M}_{min}$ = $d$\n",
    "        - ${d_M}_{max}$ =$d+IT_M$\n",
    "    - Arbre :\n",
    "        - ${d_A}_{max}$ = $d+\\Delta_{max}+lissage$\n",
    "        - ${d_A}_{min}$ = $d+\\Delta_{max}+lissage-IT_A$\n",
    "- ou un **arbre** normal :\n",
    "    - Arbre :\n",
    "        - ${d_A}_{max}$ = $d$\n",
    "        - ${d_A}_{min}$ = $d-IT_A$\n",
    "    - Moyeu :\n",
    "        - ${d_M}_{min}$ = $d-(\\Delta_{max}+lissage)$\n",
    "        - ${d_M}_{max}$ = $d-(\\Delta_{max}+lissage)+IT_M$\n"
   ]
  },
  {
   "cell_type": "code",
   "execution_count": 4,
   "metadata": {},
   "outputs": [],
   "source": [
    "% donnnées ajustement\n",
    "% d<180mm donc arbre et moyeu en qualité 6\n",
    "ITA=19e-6; % en m\n",
    "ITM=19e-6; % en m\n",
    "Ra=0.8; % en microns\n",
    "lissage=5e-6; % lissage en m"
   ]
  },
  {
   "cell_type": "code",
   "execution_count": null,
   "metadata": {},
   "outputs": [],
   "source": []
  }
 ],
 "metadata": {
  "celltoolbar": "Aucun(e)",
  "kernelspec": {
   "display_name": "Octave",
   "language": "octave",
   "name": "octave"
  },
  "language_info": {
   "file_extension": ".m",
   "help_links": [
    {
     "text": "GNU Octave",
     "url": "https://www.gnu.org/software/octave/support.html"
    },
    {
     "text": "Octave Kernel",
     "url": "https://github.com/Calysto/octave_kernel"
    },
    {
     "text": "MetaKernel Magics",
     "url": "https://metakernel.readthedocs.io/en/latest/source/README.html"
    }
   ],
   "mimetype": "text/x-octave",
   "name": "octave",
   "version": "4.2.2"
  }
 },
 "nbformat": 4,
 "nbformat_minor": 2
}
