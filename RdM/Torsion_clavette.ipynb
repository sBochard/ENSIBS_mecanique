{
 "cells": [
  {
   "cell_type": "markdown",
   "metadata": {},
   "source": [
    "# Calcul d'un arbre claveté en torsion"
   ]
  },
  {
   "cell_type": "markdown",
   "metadata": {},
   "source": [
    "Un arbre en acier, de section circulaire pleine diamètre $d$ et de longueur $L$, est soumis à un moment de torsion $Mt$. Une rainure de clavette, longueur $L_c$, est usinée à son extrémité.\n",
    "![Montage  et dimensions de la clavette](montage_clavette.png \"Montage et dimensions de la clavette\")\n",
    "Données :\n",
    "\n",
    "\\begin{equation}\n",
    "\\begin{array}{lll}\n",
    "d = 36\\,mm & L = 400\\,mm & L_c = 40\\,mm \\\\\n",
    "E = 210\\,000\\,MPa &  \\nu = 0,3  & Mt = 50\\,Nm \\\\  \n",
    "r = 1,5\\,mm & R_e = 250\\,MPa & Cs = 2,5\n",
    "\\end{array}\n",
    "\\end{equation}"
   ]
  },
  {
   "cell_type": "code",
   "execution_count": 1,
   "metadata": {},
   "outputs": [],
   "source": [
    "% script octave\n",
    "% arbre claveté en torsion\n",
    "\n",
    "% données\n",
    "d = 36; % mm\n",
    "L = 400; % mm\n",
    "Lc = 40; % mm\n",
    "E = 210000; %MPa\n",
    "nu = 0.3; % ~\n",
    "Mt = 50; % Nm\n",
    "r = 1.5; % mm\n",
    "Re=250; % MPa\n",
    "Cs=2.5; % ~"
   ]
  },
  {
   "cell_type": "markdown",
   "metadata": {},
   "source": [
    "## 1. Choisir la clavette adaptée au diamètre $d$ de l'arbre et donner $a$, $b$ et calculer $j$\n",
    "![Tailles recommandées de clavette](taille_clavette.png \"Tailles recommandées de clavette\")"
   ]
  },
  {
   "cell_type": "code",
   "execution_count": 2,
   "metadata": {
    "scrolled": true
   },
   "outputs": [
    {
     "name": "stdout",
     "output_type": "stream",
     "text": [
      "a =  10\n",
      "b =  8\n",
      "error: 'Tj' undefined near line 2 column 17\n"
     ]
    }
   ],
   "source": [
    "% choix de la clavette\n",
    "% table des diamètres d\n",
    "Td=[6 8 8 10 10 12 12 17 17 22 22 30 30 38 38 44 44 50 50 58 58 65 65 75 75 85 85 95 95 110 110 130 130 150 150 170 170 200 200 230 ];\n",
    "% table des largeurs a \n",
    "Ta=[2 2 3 3 4 4 5 5 6 6 8 8 10 10 12 12 14 14 16 16 18 18 20 20 22 22 25 25 28 28 32 32 36 36 40 40 45 45 50 50];\n",
    "% table des hauteurs b\n",
    "Tb=[2 2 3 3 4 4 5 5 6 6 7 7 8 8 8 8 9 9 10 10 11 11 12 12 14 14 14 14 16 16 18 18 20 20 22 22 25 25 28 28];\n",
    "% table des jeux\n",
    "Tjeux=[1.2 1.2 1.8 1.8 2.5 2.5 3 3 3.5 3.5 4 4 5 5 5 5 5.5 5.5 6 6 7 7 7.5 7.5 9 9 9 9 10 10 11 11 12 12 13 13 15 15 17 17];\n",
    "% choix de la largeur en fonction du diamètre\n",
    "a=interp1(Td,Ta,d,'left')\n",
    "% choix de la hauteur en fonction du diamètre\n",
    "b=interp1(Td,Tb,d,'left')\n",
    "% choix du jeux et calcul de j [Jj car j=(-1)^0.5] en fonction de d\n",
    "Jj=d-interp1(Td,Tj,d,'left')"
   ]
  },
  {
   "cell_type": "markdown",
   "metadata": {},
   "source": [
    "## 2.  Calculer l'angle de torsion de l'arbre.\n",
    "\n",
    "L'angle de torsion est donné par (en négligeant l'influence de la clavette) :\n",
    "$$\\theta=\\frac{Mt.L}{GIo}=\\frac{64LMt(1+\\nu)}{\\pi Ed^4}$$"
   ]
  },
  {
   "cell_type": "code",
   "execution_count": 3,
   "metadata": {},
   "outputs": [
    {
     "name": "stdout",
     "output_type": "stream",
     "text": [
      "theta =  0.086039\r\n"
     ]
    }
   ],
   "source": [
    "% angle de torsion\n",
    "Io= pi*d^4/32; % mm^4\n",
    "G = E/2/(1+nu); % MPa\n",
    "theta=Mt*1000/G/Io*L*180/pi % degré"
   ]
  },
  {
   "cell_type": "markdown",
   "metadata": {},
   "source": [
    "## 3. Vérifier sa résistance.\n",
    "\n",
    "![Cisaillement sous la clavette](clavette.png \"Cisaillement sous la clavette\")\n",
    "\n",
    "\\begin{equation}\n",
    "\\begin{array}[b]{|c|c|}\n",
    "\\hline\n",
    "\\cfrac{r}{d-j} & K_t\\\\\n",
    "\\hline\n",
    "0.5 & 2.1\\\\\n",
    "0.3 & 2.7\\\\\n",
    "0.2 & 3.5\\\\\n",
    "0.1 & 5.4\\\\\n",
    "\\hline\n",
    "\\end{array}\n",
    "\\end{equation}\n",
    "\n",
    "La contrainte nominale sous la clavette vaut :\n",
    "$$\\tau=\\frac{Mt}{Io}.\\frac{d}{2}=\\frac{16Mt}{\\pi j^3}$$\n",
    "Vérification de la résistance :\n",
    "\\begin{align*}\n",
    "\\frac{r}{d-j} &=0.3 \\Rightarrow  Kt = 2,7\\\\\n",
    "Kt.\\tau &<\\frac{Re}{2C_s}\\\\\n",
    "23,1\\,MPa \\,\\, &< \\,\\, 50\\,MPa\n",
    "\\end{align*}\n",
    "\n",
    "donc l'arbre résiste."
   ]
  },
  {
   "cell_type": "code",
   "execution_count": 4,
   "metadata": {},
   "outputs": [
    {
     "name": "stdout",
     "output_type": "stream",
     "text": [
      "error: 'Jj' undefined near line 2 column 8\n",
      "error: 'Ij' undefined near line 1 column 13\n",
      "error: 'Jj' undefined near line 1 column 25\n",
      "error: 'Kt' undefined near line 1 column 9\n",
      "tau_admissible =  50\n"
     ]
    }
   ],
   "source": [
    "% résistance\n",
    "Ij= pi*Jj^4/32; % mm^4\n",
    "tau=Mt*1000/Ij*Jj/2 % MPa\n",
    "% table des concentrations de contrainte Kt\n",
    "Tk=[2.1 2.7 3.5 5.4];\n",
    "% table des rapports r/(d-j)\n",
    "Trdj=[0.5 0.3 0.2 0.1];\n",
    "Kt=interp1(Trdj,Tk,r/(d-Jj),'linear')\n",
    "tau_max=Kt*tau\n",
    "tau_admissible=Re/2/Cs"
   ]
  },
  {
   "cell_type": "code",
   "execution_count": null,
   "metadata": {},
   "outputs": [],
   "source": []
  }
 ],
 "metadata": {
  "kernelspec": {
   "display_name": "Octave",
   "language": "octave",
   "name": "octave"
  },
  "language_info": {
   "file_extension": ".m",
   "help_links": [
    {
     "text": "GNU Octave",
     "url": "https://www.gnu.org/software/octave/support.html"
    },
    {
     "text": "Octave Kernel",
     "url": "https://github.com/Calysto/octave_kernel"
    },
    {
     "text": "MetaKernel Magics",
     "url": "https://metakernel.readthedocs.io/en/latest/source/README.html"
    }
   ],
   "mimetype": "text/x-octave",
   "name": "octave",
   "version": "4.2.2"
  }
 },
 "nbformat": 4,
 "nbformat_minor": 2
}
