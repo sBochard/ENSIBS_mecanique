{
 "cells": [
  {
   "cell_type": "markdown",
   "metadata": {},
   "source": [
    "![ensibs_logo.jpg](ensibs_logo.jpg)\n",
    "# ENSIBS_mecanique\n",
    "\n",
    "## outils de mécanique (BE, RdM, EF, vibration) pour la mécatronique à l'ENSIBS\n",
    "\n",
    "stephane.bochard@univ-ubs.fr\n",
    "\n",
    "* répertoire [home](../tree)\n",
    "* répertoire [BE](../tree/BE)\n",
    "* répertoire [EF](../tree/EF)\n",
    "* répertoire [RdM](../tree/RdM)\n",
    "* répertoire [vibration](../tree/vibration)\n",
    "\n"
   ]
  },
  {
   "cell_type": "code",
   "execution_count": null,
   "metadata": {},
   "outputs": [],
   "source": []
  }
 ],
 "metadata": {
  "kernelspec": {
   "display_name": "Octave",
   "language": "octave",
   "name": "octave"
  },
  "language_info": {
   "file_extension": ".m",
   "help_links": [
    {
     "text": "GNU Octave",
     "url": "https://www.gnu.org/software/octave/support.html"
    },
    {
     "text": "Octave Kernel",
     "url": "https://github.com/Calysto/octave_kernel"
    },
    {
     "text": "MetaKernel Magics",
     "url": "https://metakernel.readthedocs.io/en/latest/source/README.html"
    }
   ],
   "mimetype": "text/x-octave",
   "name": "octave",
   "version": "4.2.2"
  }
 },
 "nbformat": 4,
 "nbformat_minor": 2
}
